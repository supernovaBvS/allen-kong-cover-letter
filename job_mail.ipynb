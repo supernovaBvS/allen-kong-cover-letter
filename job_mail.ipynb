{
 "cells": [
  {
   "cell_type": "code",
   "execution_count": null,
   "metadata": {},
   "outputs": [],
   "source": [
    "# Cc: tommy.choi@generation.org, erica.ma@generation.org, leon.lai@generation.org\n",
    "\n",
    "# Subject: Junior Data Engineer Application - Allen Kong - (Generation Graduate Job Application)"
   ]
  },
  {
   "cell_type": "code",
   "execution_count": 28,
   "metadata": {},
   "outputs": [],
   "source": [
    "def jobmail(cfname, post, rece='Hiring Manager', jobboard = 'JobsDB'):\n",
    "    cname = cfname\n",
    "\n",
    "    mail = f'Dear {rece},\\n\\nI am applying for the position of {post} at {cfname} as advertised on the job board in {jobboard}.\\\n",
    "I recently finished Generation X CLAP@JC Junior Data Engineer Program. \\\n",
    "With my previous training of being a junior data engineer, I believe Datago is an ideal place to put my certifications to work using my strong technical skills and my commitment to working as a team to \\\n",
    "innovate and maintain.\\n\\nThe wide range of technological services and laser focus on the value of a dynamic, \\\n",
    "professional workplace that promotes a positive environment are admirable qualities of Datago. \\\n",
    "My previous working experience as a hardware engineer at E-Vision gave me the chance to work in pressure-filled \\\n",
    "situations related to issues. I had to build a physical network and security systems for the client within a limited \\\n",
    "period of time and learnt to work as a team to build a whole network system and design the pipeline. \\\n",
    "It was focused on the skills of quick-thinking, problem-solving, and how to cooperate with parties from different industries \\\n",
    "because there might be a worker who was an electrician or a plumber.\\n\\nI have spent the last several weeks in an \\\n",
    "incredible junior data engineer training program, which has improved my technical skills, behavioural skills, and \\\n",
    "mindsets to become a data engineer. During this time, I have had a wide range of exposure to the Python programming \\\n",
    "language, along with experience in SQL, Agile, GitHub, and Azure, powerBI  etc. that let me keep up to date of how the real \\\n",
    "world works. I also have had extensive practice problem solving, coding, and running tests and the opportunity to practice \\\n",
    "important skills such as communication, teamwork, growth mindset, personal responsibility, and persistence.\\n\\n\\\n",
    "Given that the {post} role at Datago is asked to competently address new challenges, react to changes in the \\\n",
    "business environment, manage priorities, and creatively suggest or build and maintain the existing code in order \\\n",
    "to increase performance, I strongly believe that my personality of teamwork, growth mindset and persistence makes me \\\n",
    "an ideal candidate for the position.\\n\\nI am excited by the opportunity to contribute to Datago as a {post}. I would \\\n",
    "like to develop my career path in Datago and grow with your team. I would welcome the opportunity to further discuss my \\\n",
    "qualifications for this position with you.\\n\\nSincerely,\\n\\nAllen Kong\\n\\nEnclosure: Resume'\n",
    "\n",
    "    mail= mail.replace('Datago', cname)\n",
    "    return mail"
   ]
  },
  {
   "cell_type": "code",
   "execution_count": 29,
   "metadata": {},
   "outputs": [],
   "source": [
    "def writemail(mail):    \n",
    "    ''' path = 'output.txt' '''\n",
    "\n",
    "    path = '/Users/dev/Documents/cv/output.txt'\n",
    "    with open(path, 'w') as f:\n",
    "        f.write(mail)"
   ]
  },
  {
   "cell_type": "code",
   "execution_count": 30,
   "metadata": {},
   "outputs": [],
   "source": [
    "def main():\n",
    "    mail = jobmail('Mayer Brown', 'junior data engineer')\n",
    "    writemail(mail)"
   ]
  },
  {
   "cell_type": "code",
   "execution_count": 32,
   "metadata": {},
   "outputs": [],
   "source": [
    "if __name__ == \"__main__\":\n",
    "    main()"
   ]
  },
  {
   "cell_type": "code",
   "execution_count": null,
   "metadata": {},
   "outputs": [],
   "source": []
  }
 ],
 "metadata": {
  "kernelspec": {
   "display_name": "Python 3.9.15 ('ml')",
   "language": "python",
   "name": "python3"
  },
  "language_info": {
   "codemirror_mode": {
    "name": "ipython",
    "version": 3
   },
   "file_extension": ".py",
   "mimetype": "text/x-python",
   "name": "python",
   "nbconvert_exporter": "python",
   "pygments_lexer": "ipython3",
   "version": "3.9.15 | packaged by conda-forge | (main, Nov 22 2022, 08:48:25) \n[Clang 14.0.6 ]"
  },
  "orig_nbformat": 4,
  "vscode": {
   "interpreter": {
    "hash": "08eac26dc1f80337b7d87e94e7159a5bad95c2e85f47efef91c61359b3afbfe9"
   }
  }
 },
 "nbformat": 4,
 "nbformat_minor": 2
}
